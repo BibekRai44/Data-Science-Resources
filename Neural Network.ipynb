{
 "cells": [
  {
   "cell_type": "code",
   "execution_count": 1,
   "id": "04204d40",
   "metadata": {},
   "outputs": [
    {
     "name": "stdout",
     "output_type": "stream",
     "text": [
      "python 3.10.6 | packaged by conda-forge | (main, Aug 22 2022, 20:38:29) [Clang 13.0.1 ]\n",
      "Numpy 1.23.2\n",
      "Matplotlib 3.6.2\n"
     ]
    }
   ],
   "source": [
    "import sys\n",
    "import numpy as np\n",
    "import matplotlib\n",
    "print('python',sys.version)\n",
    "print('Numpy',np.version.version)\n",
    "print('Matplotlib',matplotlib.__version__)"
   ]
  },
  {
   "cell_type": "markdown",
   "id": "a01955a9",
   "metadata": {},
   "source": [
    "For 1 Neuron with 3 inputs"
   ]
  },
  {
   "cell_type": "code",
   "execution_count": 2,
   "id": "b8d4ced1",
   "metadata": {},
   "outputs": [
    {
     "name": "stdout",
     "output_type": "stream",
     "text": [
      "35\n"
     ]
    }
   ],
   "source": [
    "inputs=[1,2,3]\n",
    "weights=[4,5,6]\n",
    "bias=3\n",
    "output=inputs[0]*weights[0]+inputs[1]*weights[1]+inputs[2]*weights[2]+bias\n",
    "print(output)\n"
   ]
  },
  {
   "cell_type": "markdown",
   "id": "bba17e3d",
   "metadata": {},
   "source": [
    "For 3 Neuron with 4 inputs"
   ]
  },
  {
   "cell_type": "code",
   "execution_count": 3,
   "id": "f1a59888",
   "metadata": {},
   "outputs": [
    {
     "name": "stdout",
     "output_type": "stream",
     "text": [
      "[3.51, 1.81, 0.20999999999999996]\n"
     ]
    }
   ],
   "source": [
    "inputs=[1,2,3,1.5]\n",
    "weights1=[0.2,-0.1,0.4,0.8]\n",
    "weights2=[0.5,-0.6,-0.7,0.8]\n",
    "weights3=[-0.26,-0.27,0.17,0.87]\n",
    "bias1=3\n",
    "bias2=2\n",
    "bias3=0.5\n",
    "output=[inputs[0]*weights1[0]+inputs[1]*weights1[1]+inputs[2]*weights3[2]+bias1,\n",
    "        inputs[0]*weights2[0]+inputs[1]*weights2[1]+inputs[2]*weights3[2]+bias2,\n",
    "        inputs[0]*weights3[0]+inputs[1]*weights3[1]+inputs[2]*weights3[2]+bias3]\n",
    "print(output)\n"
   ]
  },
  {
   "cell_type": "markdown",
   "id": "72f567d0",
   "metadata": {},
   "source": [
    "We can also write the above code as :\n"
   ]
  },
  {
   "cell_type": "code",
   "execution_count": 4,
   "id": "3afb60bc",
   "metadata": {},
   "outputs": [
    {
     "name": "stdout",
     "output_type": "stream",
     "text": [
      "[5.4   0.4   1.515]\n"
     ]
    }
   ],
   "source": [
    "input=[1,2,3,1.5]\n",
    "weights=[[0.2,-0.1,0.4,0.8],[0.5,-0.6,-0.7,0.8],[-0.26,-0.27,0.17,0.87]]\n",
    "bias=[3,2,0.5]\n",
    "output=np.dot(weights,input)+bias #weight should be always first\n",
    "print(output)"
   ]
  },
  {
   "cell_type": "markdown",
   "id": "56020719",
   "metadata": {},
   "source": [
    "Trying dot product "
   ]
  },
  {
   "cell_type": "code",
   "execution_count": 5,
   "id": "533d485e",
   "metadata": {},
   "outputs": [
    {
     "ename": "ValueError",
     "evalue": "shapes (3,4) and (3,4) not aligned: 4 (dim 1) != 3 (dim 0)",
     "output_type": "error",
     "traceback": [
      "\u001b[0;31m---------------------------------------------------------------------------\u001b[0m",
      "\u001b[0;31mValueError\u001b[0m                                Traceback (most recent call last)",
      "Cell \u001b[0;32mIn[5], line 4\u001b[0m\n\u001b[1;32m      2\u001b[0m weights\u001b[38;5;241m=\u001b[39m[[\u001b[38;5;241m-\u001b[39m\u001b[38;5;241m4\u001b[39m,\u001b[38;5;241m2\u001b[39m,\u001b[38;5;241m4\u001b[39m,\u001b[38;5;241m3\u001b[39m],[\u001b[38;5;241m-\u001b[39m\u001b[38;5;241m2\u001b[39m,\u001b[38;5;241m-\u001b[39m\u001b[38;5;241m4\u001b[39m,\u001b[38;5;241m-\u001b[39m\u001b[38;5;241m5\u001b[39m,\u001b[38;5;241m2\u001b[39m],[\u001b[38;5;241m4\u001b[39m,\u001b[38;5;241m2\u001b[39m,\u001b[38;5;241m3\u001b[39m,\u001b[38;5;241m1\u001b[39m]]\n\u001b[1;32m      3\u001b[0m bias\u001b[38;5;241m=\u001b[39m[\u001b[38;5;241m3\u001b[39m,\u001b[38;5;241m2\u001b[39m,\u001b[38;5;241m0.5\u001b[39m]\n\u001b[0;32m----> 4\u001b[0m output\u001b[38;5;241m=\u001b[39m\u001b[43mnp\u001b[49m\u001b[38;5;241;43m.\u001b[39;49m\u001b[43mdot\u001b[49m\u001b[43m(\u001b[49m\u001b[38;5;28;43minput\u001b[39;49m\u001b[43m,\u001b[49m\u001b[43mweights\u001b[49m\u001b[43m)\u001b[49m\u001b[38;5;241m+\u001b[39mbias\n\u001b[1;32m      5\u001b[0m \u001b[38;5;28mprint\u001b[39m(output) \u001b[38;5;66;03m#here we neeed to transpose the weights values for making 3*4 and 4*3 martix\u001b[39;00m\n",
      "File \u001b[0;32m<__array_function__ internals>:180\u001b[0m, in \u001b[0;36mdot\u001b[0;34m(*args, **kwargs)\u001b[0m\n",
      "\u001b[0;31mValueError\u001b[0m: shapes (3,4) and (3,4) not aligned: 4 (dim 1) != 3 (dim 0)"
     ]
    }
   ],
   "source": [
    "input=[[1,2,3,4],[2,3,4,1],[-2,-1,4,2]]\n",
    "weights=[[-4,2,4,3],[-2,-4,-5,2],[4,2,3,1]]\n",
    "bias=[3,2,0.5]\n",
    "output=np.dot(input,weights)+bias\n",
    "print(output) #here we neeed to transpose the weights values for making 3*4 and 4*3 martix"
   ]
  },
  {
   "cell_type": "markdown",
   "id": "5fee77e2",
   "metadata": {},
   "source": [
    "Making transpose of weights"
   ]
  },
  {
   "cell_type": "code",
   "execution_count": 6,
   "id": "06c4d0aa",
   "metadata": {},
   "outputs": [
    {
     "name": "stdout",
     "output_type": "stream",
     "text": [
      "[[ 27.  -15.   21.5]\n",
      " [ 20.  -32.   27.5]\n",
      " [ 31.   -6.    4.5]]\n"
     ]
    }
   ],
   "source": [
    "output=np.dot(input,np.array(weights).T)+bias\n",
    "print(output)"
   ]
  },
  {
   "cell_type": "markdown",
   "id": "ff69c44f",
   "metadata": {},
   "source": [
    "Working on with two layers transpose"
   ]
  },
  {
   "cell_type": "code",
   "execution_count": 7,
   "id": "dea8c71e",
   "metadata": {},
   "outputs": [
    {
     "name": "stdout",
     "output_type": "stream",
     "text": [
      "[[-22.   47.  143.5]\n",
      " [-11.  141.   99.5]\n",
      " [-84.  -31.  126.5]]\n"
     ]
    }
   ],
   "source": [
    "input=[[1,2,3,4],[2,3,4,1],[-2,-1,4,2]] #4*4 matrix\n",
    "weights=[[-4,2,4,3],[-2,-4,-5,2],[4,2,3,1]] #4*4 matrix\n",
    "bias=[3,2,0.5]\n",
    "input1=[[2,2,-2],[2,3,2],[-2,-1,4]] #3*3 matrix\n",
    "weights1=[[-3,2,4],[-2,-4,2],[4,2,3]] #3*3 matrix\n",
    "bias1=[3,-2,1]\n",
    "output=np.dot(input,np.array(weights).T)+bias\n",
    "output1=np.dot(output,np.array(weights1).T)+bias1\n",
    "print(output1)"
   ]
  },
  {
   "cell_type": "markdown",
   "id": "1861dec6",
   "metadata": {},
   "source": [
    "Forward Method"
   ]
  },
  {
   "cell_type": "code",
   "execution_count": 8,
   "id": "f65ac0b9",
   "metadata": {},
   "outputs": [
    {
     "name": "stdout",
     "output_type": "stream",
     "text": [
      "[[ 0.148296   -0.08397602]\n",
      " [ 0.14100315 -0.01340469]\n",
      " [ 0.20124979 -0.07290616]]\n"
     ]
    }
   ],
   "source": [
    "np.random.seed(0)\n",
    "\n",
    "X = [[1, 2, 3, 2.5],\n",
    "     [2.0, 5.0, -1.0, 2.0],\n",
    "     [-1.5, 2.7, 3.3, -0.8]]\n",
    "\n",
    "\n",
    "class Layer_Dense:\n",
    "    def __init__(self, n_inputs, n_neurons):\n",
    "        self.weights = 0.10 * np.random.randn(n_inputs, n_neurons)\n",
    "        self.biases = np.zeros((1, n_neurons))\n",
    "    def forward(self, inputs):\n",
    "        self.output = np.dot(inputs, self.weights) + self.biases\n",
    "\n",
    "layer1 = Layer_Dense(4,5)\n",
    "layer2 = Layer_Dense(5,2)\n",
    "\n",
    "layer1.forward(X)\n",
    "#print(layer1.output)\n",
    "layer2.forward(layer1.output)\n",
    "print(layer2.output)"
   ]
  },
  {
   "cell_type": "markdown",
   "id": "a8a22b04",
   "metadata": {},
   "source": [
    "Hidden layer Activation Function"
   ]
  },
  {
   "cell_type": "code",
   "execution_count": 9,
   "id": "0ac233f9",
   "metadata": {},
   "outputs": [
    {
     "name": "stdout",
     "output_type": "stream",
     "text": [
      "None\n",
      "None\n",
      "None\n",
      "None\n",
      "None\n",
      "None\n",
      "None\n",
      "[0, 1, 3, 2, 0, 9, 0]\n"
     ]
    }
   ],
   "source": [
    "inputs=[-2,1,3,2,-4.2,9,-5]\n",
    "output=[]\n",
    "for i in inputs:\n",
    "    if i>0:\n",
    "        print(output.append(i))\n",
    "    elif i<=0:\n",
    "        print(output.append(0))\n",
    "print(output)"
   ]
  },
  {
   "cell_type": "code",
   "execution_count": 10,
   "id": "24254ab6",
   "metadata": {},
   "outputs": [
    {
     "ename": "ModuleNotFoundError",
     "evalue": "No module named 'nnfs'",
     "output_type": "error",
     "traceback": [
      "\u001b[0;31m---------------------------------------------------------------------------\u001b[0m",
      "\u001b[0;31mModuleNotFoundError\u001b[0m                       Traceback (most recent call last)",
      "Cell \u001b[0;32mIn[10], line 2\u001b[0m\n\u001b[1;32m      1\u001b[0m \u001b[38;5;28;01mimport\u001b[39;00m \u001b[38;5;21;01mnumpy\u001b[39;00m \u001b[38;5;28;01mas\u001b[39;00m \u001b[38;5;21;01mnp\u001b[39;00m \n\u001b[0;32m----> 2\u001b[0m \u001b[38;5;28;01mimport\u001b[39;00m \u001b[38;5;21;01mnnfs\u001b[39;00m\n\u001b[1;32m      3\u001b[0m \u001b[38;5;28;01mfrom\u001b[39;00m \u001b[38;5;21;01mnnfs\u001b[39;00m \u001b[38;5;28;01mimport\u001b[39;00m spiral_data\n\u001b[1;32m      4\u001b[0m X, y \u001b[38;5;241m=\u001b[39m spiral_data(\u001b[38;5;241m100\u001b[39m, \u001b[38;5;241m3\u001b[39m)   \n",
      "\u001b[0;31mModuleNotFoundError\u001b[0m: No module named 'nnfs'"
     ]
    }
   ],
   "source": [
    "import numpy as np \n",
    "import nnfs\n",
    "from nnfs import spiral_data\n",
    "X, y = spiral_data(100, 3)   \n",
    "\n",
    "\n",
    "class Layer_Dense:\n",
    "    def __init__(self, n_inputs, n_neurons):\n",
    "        self.weights = 0.10 * np.random.randn(n_inputs, n_neurons)\n",
    "        self.biases = np.zeros((1, n_neurons))\n",
    "    def forward(self, inputs):\n",
    "        self.output = np.dot(inputs, self.weights) + self.biases\n",
    "\n",
    "\n",
    "class Activation_ReLU:\n",
    "    def forward(self, inputs):\n",
    "        self.output = np.maximum(0, inputs)\n",
    "\n",
    "\n",
    "layer1 = Layer_Dense(2,5)\n",
    "activation1 = Activation_ReLU()\n",
    "\n",
    "layer1.forward(X)\n",
    "\n",
    "#print(layer1.output)\n",
    "activation1.forward(layer1.output)\n",
    "print(activation1.output)"
   ]
  },
  {
   "cell_type": "markdown",
   "id": "93372fdd",
   "metadata": {},
   "source": [
    "### Softmax activation"
   ]
  },
  {
   "cell_type": "markdown",
   "id": "98f5c078",
   "metadata": {},
   "source": [
    "Exponential value"
   ]
  },
  {
   "cell_type": "code",
   "execution_count": 11,
   "id": "75e34e95",
   "metadata": {},
   "outputs": [
    {
     "name": "stdout",
     "output_type": "stream",
     "text": [
      "[8.16616991256765, 90.0171313005218, 445.85777008251665]\n"
     ]
    }
   ],
   "source": [
    "import math\n",
    "layer_output=[2.1,4.5,6.1]\n",
    "E=math.e\n",
    "exp_values=[]\n",
    "for exp in layer_output:\n",
    "    exp_values.append(E**exp)\n",
    "print(exp_values)"
   ]
  },
  {
   "cell_type": "markdown",
   "id": "61ccf2cf",
   "metadata": {},
   "source": [
    "Normalization"
   ]
  },
  {
   "cell_type": "code",
   "execution_count": 12,
   "id": "c597d57f",
   "metadata": {},
   "outputs": [
    {
     "name": "stdout",
     "output_type": "stream",
     "text": [
      "[0.015010208499737587, 0.16546017580281316, 0.8195296156974492]\n",
      "1.0\n"
     ]
    }
   ],
   "source": [
    "norm_base=sum(exp_values)\n",
    "norm_values=[]\n",
    "for value in exp_values:\n",
    "    norm_values.append(value/norm_base)\n",
    "print(norm_values)\n",
    "print(sum(norm_values))"
   ]
  },
  {
   "cell_type": "markdown",
   "id": "7eeec256",
   "metadata": {},
   "source": [
    "using numpy for exponential and normalization "
   ]
  },
  {
   "cell_type": "code",
   "execution_count": 13,
   "id": "98c92eab",
   "metadata": {},
   "outputs": [
    {
     "name": "stdout",
     "output_type": "stream",
     "text": [
      "[  8.16616991  90.0171313  445.85777008]\n",
      "1.0\n"
     ]
    }
   ],
   "source": [
    "exp_values=np.exp(layer_output)\n",
    "norm_values=exp_values/np.sum(exp_values)\n",
    "print(exp_values)\n",
    "print(sum(norm_values))"
   ]
  },
  {
   "cell_type": "markdown",
   "id": "131625f8",
   "metadata": {},
   "source": [
    "Adding rows and column of 3*3 matrix"
   ]
  },
  {
   "cell_type": "code",
   "execution_count": 14,
   "id": "e4b2cf6c",
   "metadata": {},
   "outputs": [
    {
     "name": "stdout",
     "output_type": "stream",
     "text": [
      "[12.7 10.9  8.6]\n",
      "[ 7.  12.3 12.9]\n"
     ]
    }
   ],
   "source": [
    "layer_output=[[2.1,4.5,6.1],\n",
    "             [3.5,5.2,2.2],\n",
    "             [1.4,2.6,4.6]]\n",
    "exp_values=np.exp(layer_output)\n",
    "print(np.sum(layer_output,axis=1,keepdims=False)) #axis=1 is for the row value\n",
    "print(np.sum(layer_output,axis=0,keepdims=False)) #axis=0 is for the column value and keepdims=false keep dimension horizontal"
   ]
  },
  {
   "cell_type": "markdown",
   "id": "455b790d",
   "metadata": {},
   "source": [
    "### Loss with categorical cross-entropy"
   ]
  },
  {
   "cell_type": "code",
   "execution_count": 15,
   "id": "ef77f0f3",
   "metadata": {},
   "outputs": [
    {
     "name": "stdout",
     "output_type": "stream",
     "text": [
      "1.6486586255873816\n",
      "5.15516951223468\n"
     ]
    }
   ],
   "source": [
    "#solving for x\n",
    "#e**x=b\n",
    "\n",
    "import math\n",
    "import numpy as np\n",
    "x=5.2\n",
    "print(np.log(x))\n",
    "print(math.e**1.64) #e value is 1.64\n"
   ]
  },
  {
   "cell_type": "markdown",
   "id": "4a1f9f56",
   "metadata": {},
   "source": [
    "calculating loss function"
   ]
  },
  {
   "cell_type": "code",
   "execution_count": 16,
   "id": "4a32e835",
   "metadata": {},
   "outputs": [
    {
     "name": "stdout",
     "output_type": "stream",
     "text": [
      "-15.435904901573302\n"
     ]
    }
   ],
   "source": [
    "softmax_output=[4.2,5.1,6.3] #all inputs should be postive otherwise there will be math domain error\n",
    "target_output=[3.2,5.3,1.2]\n",
    "\n",
    "loss= -(math.log(softmax_output[0])*target_output[0]+\n",
    "        math.log(softmax_output[1])*target_output[1]+\n",
    "        math.log(softmax_output[2])*target_output[2])\n",
    "print(loss)"
   ]
  },
  {
   "cell_type": "code",
   "execution_count": null,
   "id": "fcd85218",
   "metadata": {},
   "outputs": [],
   "source": []
  }
 ],
 "metadata": {
  "kernelspec": {
   "display_name": "Python 3 (ipykernel)",
   "language": "python",
   "name": "python3"
  },
  "language_info": {
   "codemirror_mode": {
    "name": "ipython",
    "version": 3
   },
   "file_extension": ".py",
   "mimetype": "text/x-python",
   "name": "python",
   "nbconvert_exporter": "python",
   "pygments_lexer": "ipython3",
   "version": "3.10.6"
  }
 },
 "nbformat": 4,
 "nbformat_minor": 5
}
