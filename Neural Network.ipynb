{
 "cells": [
  {
   "cell_type": "code",
   "execution_count": null,
   "id": "04204d40",
   "metadata": {},
   "outputs": [
    {
     "ename": "",
     "evalue": "",
     "output_type": "error",
     "traceback": [
      "\u001b[1;31mFailed to start the Kernel. \n",
      "\u001b[1;31mFailed to start the Kernel 'base (Python 3.10.6)'. \n",
      "\u001b[1;31mView Jupyter <a href='command:jupyter.viewOutput'>log</a> for further details. Activating /usr/bin/python3 to run Jupyter failed with Error: Workspace not trusted"
     ]
    }
   ],
   "source": [
    "import sys\n",
    "import numpy as np\n",
    "import matplotlib\n",
    "print('python',sys.version)\n",
    "print('Numpy',np.version.version)\n",
    "print('Matplotlib',matplotlib.__version__)"
   ]
  },
  {
   "cell_type": "markdown",
   "id": "a01955a9",
   "metadata": {},
   "source": [
    "For 1 Neuron with 3 inputs"
   ]
  },
  {
   "cell_type": "code",
   "execution_count": null,
   "id": "b8d4ced1",
   "metadata": {},
   "outputs": [
    {
     "ename": "",
     "evalue": "",
     "output_type": "error",
     "traceback": [
      "\u001b[1;31mFailed to start the Kernel. \n",
      "\u001b[1;31mFailed to start the Kernel 'base (Python 3.10.6)'. \n",
      "\u001b[1;31mView Jupyter <a href='command:jupyter.viewOutput'>log</a> for further details. Activating /usr/bin/python3 to run Jupyter failed with Error: Workspace not trusted"
     ]
    }
   ],
   "source": [
    "inputs=[1,2,3]\n",
    "weights=[4,5,6]\n",
    "bias=3\n",
    "output=inputs[0]*weights[0]+inputs[1]*weights[1]+inputs[2]*weights[2]+bias\n",
    "print(output)\n"
   ]
  },
  {
   "cell_type": "markdown",
   "id": "bba17e3d",
   "metadata": {},
   "source": [
    "For 3 Neuron with 4 inputs"
   ]
  },
  {
   "cell_type": "code",
   "execution_count": null,
   "id": "f1a59888",
   "metadata": {},
   "outputs": [
    {
     "ename": "",
     "evalue": "",
     "output_type": "error",
     "traceback": [
      "\u001b[1;31mFailed to start the Kernel. \n",
      "\u001b[1;31mFailed to start the Kernel 'base (Python 3.10.6)'. \n",
      "\u001b[1;31mView Jupyter <a href='command:jupyter.viewOutput'>log</a> for further details. Activating /usr/bin/python3 to run Jupyter failed with Error: Workspace not trusted"
     ]
    }
   ],
   "source": [
    "inputs=[1,2,3,1.5]\n",
    "weights1=[0.2,-0.1,0.4,0.8]\n",
    "weights2=[0.5,-0.6,-0.7,0.8]\n",
    "weights3=[-0.26,-0.27,0.17,0.87]\n",
    "bias1=3\n",
    "bias2=2\n",
    "bias3=0.5\n",
    "output=[inputs[0]*weights1[0]+inputs[1]*weights1[1]+inputs[2]*weights3[2]+bias1,\n",
    "        inputs[0]*weights2[0]+inputs[1]*weights2[1]+inputs[2]*weights3[2]+bias2,\n",
    "        inputs[0]*weights3[0]+inputs[1]*weights3[1]+inputs[2]*weights3[2]+bias3]\n",
    "print(output)\n"
   ]
  },
  {
   "cell_type": "markdown",
   "id": "72f567d0",
   "metadata": {},
   "source": [
    "We can also write the above code as :\n"
   ]
  },
  {
   "cell_type": "code",
   "execution_count": null,
   "id": "3afb60bc",
   "metadata": {},
   "outputs": [
    {
     "ename": "",
     "evalue": "",
     "output_type": "error",
     "traceback": [
      "\u001b[1;31mFailed to start the Kernel. \n",
      "\u001b[1;31mFailed to start the Kernel 'base (Python 3.10.6)'. \n",
      "\u001b[1;31mView Jupyter <a href='command:jupyter.viewOutput'>log</a> for further details. Activating /usr/bin/python3 to run Jupyter failed with Error: Workspace not trusted"
     ]
    }
   ],
   "source": [
    "input=[1,2,3,1.5]\n",
    "weights=[[0.2,-0.1,0.4,0.8],[0.5,-0.6,-0.7,0.8],[-0.26,-0.27,0.17,0.87]]\n",
    "bias=[3,2,0.5]\n",
    "output=np.dot(weights,input)+bias #weight should be always first\n",
    "print(output)"
   ]
  },
  {
   "cell_type": "markdown",
   "id": "56020719",
   "metadata": {},
   "source": [
    "Trying dot product "
   ]
  },
  {
   "cell_type": "code",
   "execution_count": null,
   "id": "533d485e",
   "metadata": {},
   "outputs": [
    {
     "ename": "",
     "evalue": "",
     "output_type": "error",
     "traceback": [
      "\u001b[1;31mFailed to start the Kernel. \n",
      "\u001b[1;31mFailed to start the Kernel 'base (Python 3.10.6)'. \n",
      "\u001b[1;31mView Jupyter <a href='command:jupyter.viewOutput'>log</a> for further details. Activating /usr/bin/python3 to run Jupyter failed with Error: Workspace not trusted"
     ]
    }
   ],
   "source": [
    "input=[[1,2,3,4],[2,3,4,1],[-2,-1,4,2]]\n",
    "weights=[[-4,2,4,3],[-2,-4,-5,2],[4,2,3,1]]\n",
    "bias=[3,2,0.5]\n",
    "output=np.dot(input,weights)+bias\n",
    "print(output) #here we neeed to transpose the weights values for making 3*4 and 4*3 martix"
   ]
  },
  {
   "cell_type": "markdown",
   "id": "5fee77e2",
   "metadata": {},
   "source": [
    "Making transpose of weights"
   ]
  },
  {
   "cell_type": "code",
   "execution_count": null,
   "id": "06c4d0aa",
   "metadata": {},
   "outputs": [
    {
     "ename": "",
     "evalue": "",
     "output_type": "error",
     "traceback": [
      "\u001b[1;31mFailed to start the Kernel. \n",
      "\u001b[1;31mFailed to start the Kernel 'base (Python 3.10.6)'. \n",
      "\u001b[1;31mView Jupyter <a href='command:jupyter.viewOutput'>log</a> for further details. Activating /usr/bin/python3 to run Jupyter failed with Error: Workspace not trusted"
     ]
    }
   ],
   "source": [
    "output=np.dot(input,np.array(weights).T)+bias\n",
    "print(output)"
   ]
  },
  {
   "cell_type": "markdown",
   "id": "ff69c44f",
   "metadata": {},
   "source": [
    "Working on with two layers transpose"
   ]
  },
  {
   "cell_type": "code",
   "execution_count": null,
   "id": "dea8c71e",
   "metadata": {},
   "outputs": [
    {
     "ename": "",
     "evalue": "",
     "output_type": "error",
     "traceback": [
      "\u001b[1;31mFailed to start the Kernel. \n",
      "\u001b[1;31mFailed to start the Kernel 'base (Python 3.10.6)'. \n",
      "\u001b[1;31mView Jupyter <a href='command:jupyter.viewOutput'>log</a> for further details. Activating /usr/bin/python3 to run Jupyter failed with Error: Workspace not trusted"
     ]
    }
   ],
   "source": [
    "input=[[1,2,3,4],[2,3,4,1],[-2,-1,4,2]] #4*4 matrix\n",
    "weights=[[-4,2,4,3],[-2,-4,-5,2],[4,2,3,1]] #4*4 matrix\n",
    "bias=[3,2,0.5]\n",
    "input1=[[2,2,-2],[2,3,2],[-2,-1,4]] #3*3 matrix\n",
    "weights1=[[-3,2,4],[-2,-4,2],[4,2,3]] #3*3 matrix\n",
    "bias1=[3,-2,1]\n",
    "output=np.dot(input,np.array(weights).T)+bias\n",
    "output1=np.dot(output,np.array(weights1).T)+bias1\n",
    "print(output1)"
   ]
  },
  {
   "cell_type": "markdown",
   "id": "1861dec6",
   "metadata": {},
   "source": [
    "Forward Method"
   ]
  },
  {
   "cell_type": "code",
   "execution_count": null,
   "id": "f65ac0b9",
   "metadata": {},
   "outputs": [
    {
     "ename": "",
     "evalue": "",
     "output_type": "error",
     "traceback": [
      "\u001b[1;31mFailed to start the Kernel. \n",
      "\u001b[1;31mFailed to start the Kernel 'base (Python 3.10.6)'. \n",
      "\u001b[1;31mView Jupyter <a href='command:jupyter.viewOutput'>log</a> for further details. Activating /usr/bin/python3 to run Jupyter failed with Error: Workspace not trusted"
     ]
    }
   ],
   "source": [
    "np.random.seed(0)\n",
    "\n",
    "X = [[1, 2, 3, 2.5],\n",
    "     [2.0, 5.0, -1.0, 2.0],\n",
    "     [-1.5, 2.7, 3.3, -0.8]]\n",
    "\n",
    "\n",
    "class Layer_Dense:\n",
    "    def __init__(self, n_inputs, n_neurons):\n",
    "        self.weights = 0.10 * np.random.randn(n_inputs, n_neurons)\n",
    "        self.biases = np.zeros((1, n_neurons))\n",
    "    def forward(self, inputs):\n",
    "        self.output = np.dot(inputs, self.weights) + self.biases\n",
    "\n",
    "layer1 = Layer_Dense(4,5)\n",
    "layer2 = Layer_Dense(5,2)\n",
    "\n",
    "layer1.forward(X)\n",
    "#print(layer1.output)\n",
    "layer2.forward(layer1.output)\n",
    "print(layer2.output)"
   ]
  },
  {
   "cell_type": "markdown",
   "id": "a8a22b04",
   "metadata": {},
   "source": [
    "Hidden layer Activation Function"
   ]
  },
  {
   "cell_type": "code",
   "execution_count": null,
   "id": "0ac233f9",
   "metadata": {},
   "outputs": [
    {
     "ename": "",
     "evalue": "",
     "output_type": "error",
     "traceback": [
      "\u001b[1;31mFailed to start the Kernel. \n",
      "\u001b[1;31mFailed to start the Kernel 'base (Python 3.10.6)'. \n",
      "\u001b[1;31mView Jupyter <a href='command:jupyter.viewOutput'>log</a> for further details. Activating /usr/bin/python3 to run Jupyter failed with Error: Workspace not trusted"
     ]
    }
   ],
   "source": [
    "inputs=[-2,1,3,2,-4.2,9,-5]\n",
    "output=[]\n",
    "for i in inputs:\n",
    "    if i>0:\n",
    "        print(output.append(i))\n",
    "    elif i<=0:\n",
    "        print(output.append(0))\n",
    "print(output)"
   ]
  },
  {
   "cell_type": "code",
   "execution_count": 14,
   "id": "24254ab6",
   "metadata": {},
   "outputs": [
    {
     "ename": "ModuleNotFoundError",
     "evalue": "No module named 'nnfs'",
     "output_type": "error",
     "traceback": [
      "\u001b[0;31m---------------------------------------------------------------------------\u001b[0m",
      "\u001b[0;31mModuleNotFoundError\u001b[0m                       Traceback (most recent call last)",
      "Cell \u001b[0;32mIn[14], line 2\u001b[0m\n\u001b[1;32m      1\u001b[0m \u001b[38;5;28;01mimport\u001b[39;00m \u001b[38;5;21;01mnumpy\u001b[39;00m \u001b[38;5;28;01mas\u001b[39;00m \u001b[38;5;21;01mnp\u001b[39;00m \n\u001b[0;32m----> 2\u001b[0m \u001b[38;5;28;01mimport\u001b[39;00m \u001b[38;5;21;01mnnfs\u001b[39;00m\n\u001b[1;32m      3\u001b[0m \u001b[38;5;28;01mfrom\u001b[39;00m \u001b[38;5;21;01mnnfs\u001b[39;00m\u001b[38;5;21;01m.\u001b[39;00m\u001b[38;5;21;01mdatasets\u001b[39;00m \u001b[38;5;28;01mimport\u001b[39;00m spiral_data\n\u001b[1;32m      4\u001b[0m nnfs\u001b[38;5;241m.\u001b[39minit()\n",
      "\u001b[0;31mModuleNotFoundError\u001b[0m: No module named 'nnfs'"
     ]
    }
   ],
   "source": [
    "import numpy as np \n",
    "import nnfs\n",
    "from nnfs.datasets import spiral_data\n",
    "nnfs.init()\n",
    "\n",
    "X, y = spiral_data(100, 3)   \n",
    "\n",
    "\n",
    "class Layer_Dense:\n",
    "    def __init__(self, n_inputs, n_neurons):\n",
    "        self.weights = 0.10 * np.random.randn(n_inputs, n_neurons)\n",
    "        self.biases = np.zeros((1, n_neurons))\n",
    "    def forward(self, inputs):\n",
    "        self.output = np.dot(inputs, self.weights) + self.biases\n",
    "\n",
    "\n",
    "class Activation_ReLU:\n",
    "    def forward(self, inputs):\n",
    "        self.output = np.maximum(0, inputs)\n",
    "\n",
    "\n",
    "layer1 = Layer_Dense(2,5)\n",
    "activation1 = Activation_ReLU()\n",
    "\n",
    "layer1.forward(X)\n",
    "\n",
    "#print(layer1.output)\n",
    "activation1.forward(layer1.output)\n",
    "print(activation1.output)"
   ]
  },
  {
   "cell_type": "code",
   "execution_count": null,
   "id": "1539d6f4",
   "metadata": {},
   "outputs": [],
   "source": []
  },
  {
   "cell_type": "code",
   "execution_count": null,
   "id": "15603356",
   "metadata": {},
   "outputs": [],
   "source": []
  }
 ],
 "metadata": {
  "kernelspec": {
   "display_name": "Python 3 (ipykernel)",
   "language": "python",
   "name": "python3"
  },
  "language_info": {
   "codemirror_mode": {
    "name": "ipython",
    "version": 3
   },
   "file_extension": ".py",
   "mimetype": "text/x-python",
   "name": "python",
   "nbconvert_exporter": "python",
   "pygments_lexer": "ipython3",
   "version": "3.10.6"
  }
 },
 "nbformat": 4,
 "nbformat_minor": 5
}
